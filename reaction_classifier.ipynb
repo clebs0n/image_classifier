{
 "cells": [
  {
   "cell_type": "code",
   "execution_count": 1,
   "metadata": {},
   "outputs": [],
   "source": [
    "from fastai.vision.all import *\n",
    "from fastai.vision.widgets import *"
   ]
  },
  {
   "attachments": {},
   "cell_type": "markdown",
   "metadata": {},
   "source": [
    "# Face Reaction Classifier\n",
    "# Happy | Sad | Surprised"
   ]
  },
  {
   "cell_type": "code",
   "execution_count": null,
   "metadata": {},
   "outputs": [],
   "source": [
    "#path = Path(): creates a Path object representing the current working directory.\n",
    "\n",
    "#learn_inf = load_learner(path/'export.pkl', cpu=True): loads a pre-trained fastai #learner from the 'export.pkl' file, located in the current working directory, and #sets it to use the CPU.\n",
    "\n",
    "#btn_upload = widgets.FileUpload(): creates a file upload button widget that can be #used to upload an image.\n",
    "\n",
    "#out_pl = widgets.Output(): creates an output widget where the uploaded image and #its predicted % will be displayed.\n",
    "\n",
    "#lbl_pred = widgets.Label(): creates a label widget where the predicted class label #will be displayed.\n",
    "#hide"
   ]
  },
  {
   "cell_type": "code",
   "execution_count": null,
   "metadata": {},
   "outputs": [],
   "source": [
    "path = Path()\n",
    "learn_inf = load_learner(path/'export.pkl', cpu=True)\n",
    "btn_upload = widgets.FileUpload()\n",
    "out_pl = widgets.Output()\n",
    "lbl_pred = widgets.Label()"
   ]
  },
  {
   "cell_type": "code",
   "execution_count": null,
   "metadata": {},
   "outputs": [],
   "source": [
    "#This is a function called on_data_change that is called \n",
    "#whenever the user uploads an image using the FileUpload widget.\n",
    "#When called, the function first clears the lbl_pred label \n",
    "#(which will be used to display the predicted result),\n",
    "#then retrieves the image data from the uploaded file.\n",
    "#\n",
    "#The function then opens the image file and displays \n",
    "#it in the out_pl output widget using the display function. \n",
    "#It then uses the learn_inf object (which is a pre-trained\n",
    "#image classifier loaded from a file) to predict what is in the image.\n",
    "#\n",
    "#Finally, the predicted result is displayed in \n",
    "#the lbl_pred label, along with the probability \n",
    "#that the prediction is correct."
   ]
  },
  {
   "cell_type": "code",
   "execution_count": 4,
   "metadata": {},
   "outputs": [],
   "source": [
    "def on_data_change(change):\n",
    "    lbl_pred.value = ''\n",
    "    image_bytes = btn_upload.value[0][\"content\"]\n",
    "    img = Image.open(io.BytesIO(image_bytes))\n",
    "    out_pl.clear_output()\n",
    "    with out_pl: display(img.to_thumb(128,128))\n",
    "    pred,pred_idx,probs = learn_inf.predict(img)\n",
    "    lbl_pred.value = f'Prediction: {pred}; Probability: {probs[pred_idx]:.04f}'"
   ]
  },
  {
   "cell_type": "code",
   "execution_count": null,
   "metadata": {},
   "outputs": [],
   "source": [
    "#This code is creating an upload button using \n",
    "#the FileUpload widget. When a user uploads an \n",
    "#image, it triggers the on_data_change function \n",
    "#which updates the output display and shows the \n",
    "#predicted label of the image. The Output widget\n",
    "#is used to display the image and label prediction.\n",
    "#Finally, everything is displayed using the VBox \n",
    "#widget which arranges the widgets vertically."
   ]
  },
  {
   "cell_type": "code",
   "execution_count": null,
   "metadata": {},
   "outputs": [],
   "source": [
    "btn_upload.observe(on_data_change, names=['data'])\n",
    "out_pl = widgets.Output()\n",
    "display(VBox([widgets.Label('Upload an Image.'), btn_upload, out_pl, lbl_pred]))"
   ]
  },
  {
   "cell_type": "code",
   "execution_count": null,
   "metadata": {},
   "outputs": [],
   "source": [
    "b#tn_run = widgets.Button(description='Classify') creates \n",
    "#a new button widget with the label \"Classify\".\n",
    "#\n",
    "#btn_run is a reference to this new button widget.\n",
    "#\n",
    "#btn_run.on_click(on_data_change) sets up an event \n",
    "#listener for the on_data_change function to be called \n",
    "#whenever the button is clicked.\n",
    "#\n",
    "#So when the user clicks the \"Classify\" button, \n",
    "#the on_data_change function will be called,\n",
    "#which will run the image classification \n",
    "#model and display the results."
   ]
  },
  {
   "cell_type": "code",
   "execution_count": null,
   "metadata": {},
   "outputs": [],
   "source": [
    "btn_run = widgets.Button(description='Classify')\n",
    "btn_run\n",
    "btn_run.on_click(on_data_change)"
   ]
  }
 ],
 "metadata": {
  "jupytext": {
   "split_at_heading": true
  },
  "kernelspec": {
   "display_name": "Python 3",
   "language": "python",
   "name": "python3"
  },
  "language_info": {
   "codemirror_mode": {
    "name": "ipython",
    "version": 3
   },
   "file_extension": ".py",
   "mimetype": "text/x-python",
   "name": "python",
   "nbconvert_exporter": "python",
   "pygments_lexer": "ipython3",
   "version": "3.7.7"
  },
  "toc": {
   "base_numbering": 1,
   "nav_menu": {},
   "number_sections": false,
   "sideBar": true,
   "skip_h1_title": true,
   "title_cell": "Table of Contents",
   "title_sidebar": "Contents",
   "toc_cell": false,
   "toc_position": {},
   "toc_section_display": true,
   "toc_window_display": false
  }
 },
 "nbformat": 4,
 "nbformat_minor": 2
}
